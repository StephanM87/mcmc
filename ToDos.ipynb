{
 "cells": [
  {
   "cell_type": "markdown",
   "metadata": {},
   "source": [
    "# Differentialgleichungen basics \n",
    "\n",
    "bei einer Differentialgleichung kennt man aufrgund von Rahmenbedingungen die **Ableitung einer Kurve** jedoch kennt man nicht die Kurve selbst\n",
    "\n",
    "Am beispiel einer chemischen Reaktion **1. Ordnung**\n",
    "\n",
    "$A' = k*A$\n",
    "\n",
    "- Das bedeuted, um den eigentlichen Konzentrationsverlauf und nicht nur den Ableitung davon zu erhalten muss man diese integrieren\n",
    "\n",
    "mit kleinen differentialgleichungen wie $A' = k*A$ geht das noch einfach, allerdings wird es bei bei größeren gleichungen fast unmöglich die Stannfunktion zu finden\n",
    "\n"
   ]
  },
  {
   "cell_type": "markdown",
   "metadata": {},
   "source": [
    "# Differentialgleichungen mit scipy lösen <a class=\"anchor\" id=\"chapter1\"></a>\n",
    "\n",
    "## Anforderungen an Scipy odeint\n",
    "\n",
    "1. Das Modell wird definiert als Funktion\n",
    "\n",
    "``` \n",
    "def func(y, t):\n",
    "    k =0.3\n",
    "    dydt = -k*y\n",
    "    return dydt\n",
    "```\n",
    "\n",
    "**Dabei muss folgendes erfüllt sein:**\n",
    "- Konstanten müssen definiert oder instanziiert sein\n",
    "- y ist ein Wert und stellt die Anfangsbedingung dar\n",
    "- x ist ein Array, welcher die x werte abbildet über welche integriert werden soll\n",
    "\n",
    "2. odeint initialisieren\n",
    "\n",
    "Hat man die Differentialgleichung definiert, muss diese nur noch von odeint integriert werden:\n",
    "\n",
    "```\n",
    "sol = odeint(func,y0, time)\n",
    "\n",
    "```\n",
    "\n",
    "- **func**: Ist die Differentialgleichung welche zuvor definiert wurde\n",
    "- **y0**: ist die Anfangsbedingung welche erfüllt sein muss (Ist eine voraussetzung, denn odeint braucht einen Startpunkt)\n",
    "- **time**: Ist die unabhängige Variable, die Odeint vorgibt wo und über Welchen bereich integriert werden muss\n",
    "\n",
    "3. Das Ergebnis\n",
    "\n",
    "Sobald die Differentialgleichung integiert wurde, erhält man einen **array** in welchem sich die integrierten Werte befinden\n",
    "\n"
   ]
  },
  {
   "cell_type": "markdown",
   "metadata": {},
   "source": [
    "<a id=\"dgl-scipy\"> </a>\n",
    "\n",
    "# DGL mit Python scipy lösen"
   ]
  },
  {
   "cell_type": "code",
   "execution_count": 2,
   "metadata": {},
   "outputs": [
    {
     "data": {
      "image/png": "[encoded data removed]",
      "text/plain": [
       "<Figure size 432x288 with 1 Axes>"
      ]
     },
     "metadata": {
      "needs_background": "light"
     },
     "output_type": "display_data"
    }
   ],
   "source": [
    "from scipy.integrate import odeint\n",
    "import pandas as pd\n",
    "import matplotlib.pyplot as plt\n",
    "import numpy as np\n",
    "\n",
    "# Importieren eines Datensatzes, welcher von der Differentialgleichung beschrieben werden soll\n",
    "df = pd.read_excel(r\"reaktionen 1 2 ordnung.xlsx\")\n",
    "time = df[\"Zeit\"]\n",
    "y0 = 100\n",
    "conc = df[\"Substratkonzentration k1\"]\n",
    "\n",
    "k = 0.83\n",
    "\n",
    "# Definieren der Differentialgleichung, in diesem Fall ist es eine Reaktionskinetik 1. Ordnung dA/dt = -k*A !!! Achtung diese Funktion ist die Ableitung der eigentlich Gesuchten Funktion\n",
    "def func(A, t, k):\n",
    "    dydt = -k*A\n",
    "    return dydt\n",
    "\n",
    "sol = odeint(func,y0, time, args=(k,))\n",
    "sol2 = odeint(func,y0, time, args=(0.2,))\n",
    "\n",
    "fig,ax = plt.subplots()\n",
    "ax.plot(time,conc)\n",
    "ax.plot(time, sol)\n",
    "ax.plot(time, sol2)\n",
    "plt.show()"
   ]
  },
  {
   "cell_type": "markdown",
   "metadata": {},
   "source": [
    "# Fitting the Model Using Lmfit\n",
    "\n",
    "Now that we have defined the function, we know which model describes our data, but the curves are still not fitting to one another, so we need to perform a curve fit, to adapt the constants in a way, that the model fits the measured data\n"
   ]
  },
  {
   "cell_type": "code",
   "execution_count": 3,
   "metadata": {},
   "outputs": [
    {
     "name": "stdout",
     "output_type": "stream",
     "text": [
      "model data [[100.        ]\n",
      " [ 81.05842509]\n",
      " [ 65.70468337]\n",
      " [ 53.25918171]\n",
      " [ 43.1710533 ]\n",
      " [ 34.99377583]\n",
      " [ 28.36540338]\n",
      " [ 22.99254907]\n",
      " [ 18.63739785]\n",
      " [ 15.10718093]]\n",
      "real data 0    100.000000\n",
      "1     81.873075\n",
      "2     67.032005\n",
      "3     54.881164\n",
      "4     44.932896\n",
      "5     36.787944\n",
      "6     30.119421\n",
      "7     24.659696\n",
      "8     20.189652\n",
      "9     16.529889\n",
      "Name: Substratkonzentration k1, dtype: float64\n",
      "shape model (26, 1)\n",
      "shape data (26,)\n",
      "residualk [  0.         -18.12692469 -32.9679954  -45.11883639 -55.06710359\n",
      " -63.21205588 -69.88057881 -75.34030361 -79.8103482  -83.47011118]\n",
      "model data [[100.        ]\n",
      " [ 81.05842509]\n",
      " [ 65.70468337]\n",
      " [ 53.25918171]\n",
      " [ 43.1710533 ]\n",
      " [ 34.99377583]\n",
      " [ 28.36540338]\n",
      " [ 22.99254907]\n",
      " [ 18.63739785]\n",
      " [ 15.10718093]]\n",
      "real data [100.          81.87307531  67.0320046   54.88116361  44.93289641\n",
      "  36.78794412  30.11942119  24.65969639  20.1896518   16.52988882]\n",
      "shape model (26, 1)\n",
      "shape data (26,)\n",
      "residualk [  0.         -18.12692469 -32.9679954  -45.11883639 -55.06710359\n",
      " -63.21205588 -69.88057881 -75.34030361 -79.8103482  -83.47011118]\n",
      "model data [[100.        ]\n",
      " [ 81.05842388]\n",
      " [ 65.70468141]\n",
      " [ 53.25917933]\n",
      " [ 43.17105073]\n",
      " [ 34.99377323]\n",
      " [ 28.36540085]\n",
      " [ 22.99254667]\n",
      " [ 18.63739563]\n",
      " [ 15.1071789 ]]\n",
      "real data [100.          81.87307531  67.0320046   54.88116361  44.93289641\n",
      "  36.78794412  30.11942119  24.65969639  20.1896518   16.52988882]\n",
      "shape model (26, 1)\n",
      "shape data (26,)\n",
      "residualk [  0.         -18.12692469 -32.9679954  -45.11883639 -55.06710359\n",
      " -63.21205588 -69.88057881 -75.34030361 -79.8103482  -83.47011118]\n",
      "model data [[100.        ]\n",
      " [ 81.05842509]\n",
      " [ 65.70468337]\n",
      " [ 53.25918171]\n",
      " [ 43.1710533 ]\n",
      " [ 34.99377583]\n",
      " [ 28.36540338]\n",
      " [ 22.99254907]\n",
      " [ 18.63739785]\n",
      " [ 15.10718093]]\n",
      "real data [100.          81.87307531  67.0320046   54.88116361  44.93289641\n",
      "  36.78794412  30.11942119  24.65969639  20.1896518   16.52988882]\n",
      "shape model (26, 1)\n",
      "shape data (26,)\n",
      "residualk [  0.         -18.12692469 -32.9679954  -45.11883639 -55.06710359\n",
      " -63.21205588 -69.88057881 -75.34030361 -79.8103482  -83.47011118]\n",
      "[[Fit Statistics]]\n",
      "    # fitting method   = least_squares\n",
      "    # function evals   = 1\n",
      "    # data points      = 26\n",
      "    # variables        = 1\n",
      "    chi-square         = 180607.073\n",
      "    reduced chi-square = 7224.28292\n",
      "    Akaike info crit   = 231.995546\n",
      "    Bayesian info crit = 233.253643\n",
      "##  Warning: uncertainties could not be estimated:\n",
      "    k:  at initial value\n",
      "[[Variables]]\n",
      "    k:  0.21000000 (init = 0.21)\n",
      "26\n"
     ]
    },
    {
     "data": {
      "image/png": "[encoded data removed]",
      "text/plain": [
       "<Figure size 432x288 with 1 Axes>"
      ]
     },
     "metadata": {
      "needs_background": "light"
     },
     "output_type": "display_data"
    }
   ],
   "source": [
    "from scipy.integrate import odeint\n",
    "import pandas as pd\n",
    "import matplotlib.pyplot as plt\n",
    "import numpy as np\n",
    "import lmfit\n",
    "\n",
    "\n",
    "\n",
    "df_lmfit = pd.read_excel(r\"reaktionen 1 2 ordnung.xlsx\")\n",
    "ts = np.array(df_lmfit[\"Zeit\"])\n",
    "y0 = 100\n",
    "c = np.array(df_lmfit[\"Substratkonzentration k1\"])\n",
    "\n",
    "params = lmfit.Parameters()\n",
    "params.add('k', 0.21 ,min=0.00000001, max=0.5)\n",
    "\n",
    "def resid(params, x, ydata):\n",
    "    k = params['k'].value\n",
    "    x0 = 100\n",
    "\n",
    "    ymodel = odeint(func, x0, x, args=(k,))\n",
    "    print(\"model data\",ymodel[:10])\n",
    "    res = np.array(ydata)-ymodel[0]\n",
    "    print(\"real data\", ydata[:10])\n",
    "    print(\"shape model\",ymodel.shape)\n",
    "    print(\"shape data\",np.array(ydata).shape )\n",
    "    print(\"residualk\",res[:10])\n",
    "    return res.flatten()\n",
    "\n",
    "checklist = resid(params, time, conc)\n",
    "\n",
    "fig,ax = plt.subplots()\n",
    "ax.plot(time, conc)\n",
    "#ax.plot(time, resid)\n",
    "\n",
    "o1 = lmfit.minimize(resid, params, args = (ts, c), method='least_squares')\n",
    "lmfit.report_fit(o1)\n",
    "\n",
    "print(o1.ndata)\n",
    "\n",
    "#print(np.array(conc))\n",
    "\n"
   ]
  },
  {
   "cell_type": "code",
   "execution_count": null,
   "metadata": {},
   "outputs": [],
   "source": []
  }
 ],
 "metadata": {
  "interpreter": {
   "hash": "cc033ebe99e405e33a4a383e14ae1664bf67e0ee711f463ee69b81dbdcfa5b78"
  },
  "kernelspec": {
   "display_name": "Python 3.7.3 ('base')",
   "language": "python",
   "name": "python3"
  },
  "language_info": {
   "codemirror_mode": {
    "name": "ipython",
    "version": 3
   },
   "file_extension": ".py",
   "mimetype": "text/x-python",
   "name": "python",
   "nbconvert_exporter": "python",
   "pygments_lexer": "ipython3",
   "version": "3.7.12"
  },
  "orig_nbformat": 4
 },
 "nbformat": 4,
 "nbformat_minor": 2
}
